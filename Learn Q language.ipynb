{
 "cells": [
  {
   "cell_type": "markdown",
   "id": "81d646ec",
   "metadata": {
    "pycharm": {
     "name": "#%% md\n"
    }
   },
   "source": [
    "# 1. Data types"
   ]
  },
  {
   "cell_type": "markdown",
   "id": "4d27a126",
   "metadata": {
    "pycharm": {
     "name": "#%% md\n"
    }
   },
   "source": [
    "Kdb+ comes with its built-in programming language that is known as q. It incorporates a superset of standard SQL which is extended for time-series analysis and offers many advantages over the standard version. Anyone familiar with SQL can learn q in a matter of days and be able to quickly write her own ad-hoc queries.\n",
    "\n",
    "![Data types](./data_types.PNG)"
   ]
  },
  {
   "cell_type": "code",
   "execution_count": 5,
   "id": "b38b0b18",
   "metadata": {
    "trusted": false,
    "pycharm": {
     "name": "#%%\n"
    }
   },
   "outputs": [],
   "source": [
    "x: `mohan / `mohan is a symbol, assigned to a variable x"
   ]
  },
  {
   "cell_type": "code",
   "execution_count": 6,
   "id": "ddebb251",
   "metadata": {
    "trusted": false,
    "pycharm": {
     "name": "#%%\n"
    }
   },
   "outputs": [
    {
     "data": {
      "text/plain": "`mohan\n"
     },
     "execution_count": 6,
     "metadata": {},
     "output_type": "execute_result"
    }
   ],
   "source": [
    "x"
   ]
  },
  {
   "cell_type": "code",
   "execution_count": 7,
   "id": "752a7d9e",
   "metadata": {
    "trusted": false,
    "pycharm": {
     "name": "#%%\n"
    }
   },
   "outputs": [
    {
     "data": {
      "text/plain": "-11h\n"
     },
     "execution_count": 7,
     "metadata": {},
     "output_type": "execute_result"
    }
   ],
   "source": [
    "type x / let’s check the type of x"
   ]
  },
  {
   "cell_type": "code",
   "execution_count": 8,
   "id": "2a8ec70c",
   "metadata": {
    "trusted": false,
    "pycharm": {
     "name": "#%%\n"
    }
   },
   "outputs": [],
   "source": [
    "y: (`abc;`bca;`cab) / list of three symbols, y is the variable name."
   ]
  },
  {
   "cell_type": "code",
   "execution_count": 9,
   "id": "e4e1c25c",
   "metadata": {
    "trusted": false,
    "pycharm": {
     "name": "#%%\n"
    }
   },
   "outputs": [
    {
     "data": {
      "text/plain": "`abc`bca`cab\n"
     },
     "execution_count": 9,
     "metadata": {},
     "output_type": "execute_result"
    },
    {
     "data": {
      "text/plain": "11h\n"
     },
     "execution_count": 9,
     "metadata": {},
     "output_type": "execute_result"
    }
   ],
   "source": [
    "y\n",
    "type y"
   ]
  },
  {
   "cell_type": "code",
   "execution_count": 10,
   "id": "d8114a0d",
   "metadata": {
    "trusted": false,
    "pycharm": {
     "name": "#%%\n"
    }
   },
   "outputs": [],
   "source": [
    "y1: (`abc`bca`cab)     / another way of writing y, please note NO semicolon"
   ]
  },
  {
   "cell_type": "code",
   "execution_count": 11,
   "id": "b1bea1f3",
   "metadata": {
    "trusted": false,
    "pycharm": {
     "name": "#%%\n"
    }
   },
   "outputs": [
    {
     "data": {
      "text/plain": "`abc`bca`cab\n"
     },
     "execution_count": 11,
     "metadata": {},
     "output_type": "execute_result"
    }
   ],
   "source": [
    "y1"
   ]
  },
  {
   "cell_type": "code",
   "execution_count": 12,
   "id": "dfa2d2b6",
   "metadata": {
    "trusted": false,
    "pycharm": {
     "name": "#%%\n"
    }
   },
   "outputs": [],
   "source": [
    "y2: (`$\"Hello world\")  / string to symbol conversion"
   ]
  },
  {
   "cell_type": "code",
   "execution_count": 13,
   "id": "a7c4eb23",
   "metadata": {
    "trusted": false,
    "pycharm": {
     "name": "#%%\n"
    }
   },
   "outputs": [
    {
     "data": {
      "text/plain": "`Hello world\n"
     },
     "execution_count": 13,
     "metadata": {},
     "output_type": "execute_result"
    }
   ],
   "source": [
    "y2"
   ]
  },
  {
   "cell_type": "code",
   "execution_count": 14,
   "id": "82230686",
   "metadata": {
    "trusted": false,
    "pycharm": {
     "name": "#%%\n"
    }
   },
   "outputs": [
    {
     "data": {
      "text/plain": "`abc\n"
     },
     "execution_count": 14,
     "metadata": {},
     "output_type": "execute_result"
    },
    {
     "data": {
      "text/plain": "`abc\n"
     },
     "execution_count": 14,
     "metadata": {},
     "output_type": "execute_result"
    },
    {
     "data": {
      "text/plain": "`abc`cab\n"
     },
     "execution_count": 14,
     "metadata": {},
     "output_type": "execute_result"
    }
   ],
   "source": [
    "y[0] / Get the 0th element\n",
    "y 0 / Another way the get the 0th element\n",
    "y 0 2 / Get the 0th and 2nd elements"
   ]
  },
  {
   "cell_type": "code",
   "execution_count": 15,
   "id": "32a48b9c",
   "metadata": {
    "trusted": false,
    "pycharm": {
     "name": "#%%\n"
    }
   },
   "outputs": [],
   "source": [
    "z: (`abc; 10 20 30; (`a`b); 9.9; 8.8)"
   ]
  },
  {
   "cell_type": "code",
   "execution_count": 16,
   "id": "f0eb401b",
   "metadata": {
    "trusted": false,
    "pycharm": {
     "name": "#%%\n"
    }
   },
   "outputs": [
    {
     "data": {
      "text/plain": "`a`b\n`abc\n"
     },
     "execution_count": 16,
     "metadata": {},
     "output_type": "execute_result"
    }
   ],
   "source": [
    "z 2 0 / Get the 2nd and 0th elements in list"
   ]
  },
  {
   "cell_type": "code",
   "execution_count": 19,
   "id": "44526f70",
   "metadata": {
    "trusted": false,
    "pycharm": {
     "name": "#%%\n"
    }
   },
   "outputs": [
    {
     "data": {
      "text/plain": "`a\n"
     },
     "execution_count": 19,
     "metadata": {},
     "output_type": "execute_result"
    }
   ],
   "source": [
    "z[2;0] / Get the 2nd element in list and parse to get the 0th element in that result"
   ]
  },
  {
   "cell_type": "code",
   "execution_count": 20,
   "id": "6231021e",
   "metadata": {
    "trusted": false,
    "pycharm": {
     "name": "#%%\n"
    }
   },
   "outputs": [],
   "source": [
    "x: \"Hello World\" / list of character"
   ]
  },
  {
   "cell_type": "code",
   "execution_count": 22,
   "id": "ece2a8b3",
   "metadata": {
    "trusted": false,
    "pycharm": {
     "name": "#%%\n"
    }
   },
   "outputs": [
    {
     "data": {
      "text/plain": "\"Hl\"\n"
     },
     "execution_count": 22,
     "metadata": {},
     "output_type": "execute_result"
    },
    {
     "data": {
      "text/plain": "\"lH\"\n"
     },
     "execution_count": 22,
     "metadata": {},
     "output_type": "execute_result"
    }
   ],
   "source": [
    "x 0 2\n",
    "x 2 0"
   ]
  },
  {
   "cell_type": "markdown",
   "id": "3cea6985",
   "metadata": {
    "pycharm": {
     "name": "#%% md\n"
    }
   },
   "source": [
    "# 2. Type Casting"
   ]
  },
  {
   "cell_type": "markdown",
   "id": "f2758c16",
   "metadata": {
    "pycharm": {
     "name": "#%% md\n"
    }
   },
   "source": [
    "It is often required to change the data type of some data from one type to another. The standard casting function is the “$” dyadic operator.\n",
    "\n",
    "Three approaches are used to cast from one type to another (except for string) −\n",
    "\n",
    "    - Specify desired data type by its symbol name\n",
    "    - Specify desired data type by its character\n",
    "    - Specify desired data type by it short value.\n",
    "\n",
    "## Casting Integers to Floats\n",
    "\n",
    "In the following example of casting integers to floats, all the three different ways of casting are equivalent"
   ]
  },
  {
   "cell_type": "code",
   "execution_count": 1,
   "id": "14dec6f2",
   "metadata": {
    "trusted": false,
    "pycharm": {
     "name": "#%%\n"
    }
   },
   "outputs": [],
   "source": [
    "a: 9 18 27"
   ]
  },
  {
   "cell_type": "code",
   "execution_count": 2,
   "id": "e1fbe223",
   "metadata": {
    "trusted": false,
    "pycharm": {
     "name": "#%%\n"
    }
   },
   "outputs": [
    {
     "data": {
      "text/plain": "7h\n"
     },
     "execution_count": 2,
     "metadata": {},
     "output_type": "execute_result"
    }
   ],
   "source": [
    "type a"
   ]
  },
  {
   "cell_type": "code",
   "execution_count": 3,
   "id": "40170215",
   "metadata": {
    "trusted": false,
    "pycharm": {
     "name": "#%%\n"
    }
   },
   "outputs": [
    {
     "data": {
      "text/plain": "9 18 27f\n"
     },
     "execution_count": 3,
     "metadata": {},
     "output_type": "execute_result"
    }
   ],
   "source": [
    "$[`float;a] / Specify desired data type by its symbol name, 1st way"
   ]
  },
  {
   "cell_type": "code",
   "execution_count": 4,
   "id": "3185c13e",
   "metadata": {
    "trusted": false,
    "pycharm": {
     "name": "#%%\n"
    }
   },
   "outputs": [
    {
     "data": {
      "text/plain": "9 18 27h\n"
     },
     "execution_count": 4,
     "metadata": {},
     "output_type": "execute_result"
    }
   ],
   "source": [
    "$[\"h\";a] / Specify desired data type by its character, 2nd way (h is \"short\" type)"
   ]
  },
  {
   "cell_type": "code",
   "execution_count": 5,
   "id": "55643db6",
   "metadata": {
    "trusted": false,
    "pycharm": {
     "name": "#%%\n"
    }
   },
   "outputs": [
    {
     "data": {
      "text/plain": "9 18 27f\n"
     },
     "execution_count": 5,
     "metadata": {},
     "output_type": "execute_result"
    }
   ],
   "source": [
    "$[9h;a] / Specify desired data type by its short value, 3rd way (9 is \"float\" type and \"h\" is list)"
   ]
  },
  {
   "cell_type": "markdown",
   "source": [
    "Check if all the three operations are equivalent:"
   ],
   "metadata": {
    "collapsed": false,
    "pycharm": {
     "name": "#%% md\n"
    }
   }
  },
  {
   "cell_type": "code",
   "execution_count": 10,
   "outputs": [
    {
     "data": {
      "text/plain": "1b\n"
     },
     "execution_count": 10,
     "metadata": {},
     "output_type": "execute_result"
    },
    {
     "data": {
      "text/plain": "0b\n"
     },
     "execution_count": 10,
     "metadata": {},
     "output_type": "execute_result"
    }
   ],
   "source": [
    "($[`float;a]~$[\"f\";a]) and ($[`float;a] ~ $[9h;a])  // true case\n",
    "\n",
    "($[`float;a]~$[\"h\";a]) and ($[`float;a] ~ $[9h;a])  // false case"
   ],
   "metadata": {
    "collapsed": false,
    "pycharm": {
     "name": "#%%\n"
    }
   }
  },
  {
   "cell_type": "markdown",
   "source": [
    "## Casting Strings to Symbols"
   ],
   "metadata": {
    "collapsed": false,
    "pycharm": {
     "name": "#%% md\n"
    }
   }
  },
  {
   "cell_type": "markdown",
   "source": [
    "Casting string to symbols and vice versa works a bit differently. Let’s check it with an example"
   ],
   "metadata": {
    "collapsed": false,
    "pycharm": {
     "name": "#%% md\n"
    }
   }
  },
  {
   "cell_type": "code",
   "execution_count": 18,
   "outputs": [],
   "source": [
    "b: (\"Hello\";\"World\";\"HelloWorld\") / define a list of strings"
   ],
   "metadata": {
    "collapsed": false,
    "pycharm": {
     "name": "#%%\n"
    }
   }
  },
  {
   "cell_type": "code",
   "execution_count": 19,
   "outputs": [
    {
     "data": {
      "text/plain": "\"Hello\"\n\"World\"\n\"HelloWorld\"\n"
     },
     "execution_count": 19,
     "metadata": {},
     "output_type": "execute_result"
    }
   ],
   "source": [
    "b"
   ],
   "metadata": {
    "collapsed": false,
    "pycharm": {
     "name": "#%%\n"
    }
   }
  },
  {
   "cell_type": "code",
   "execution_count": 21,
   "outputs": [
    {
     "data": {
      "text/plain": "`Hello`World`HelloWorld\n"
     },
     "execution_count": 21,
     "metadata": {},
     "output_type": "execute_result"
    }
   ],
   "source": [
    "c: `$b / this is how to cast strings to symbols\n",
    "c"
   ],
   "metadata": {
    "collapsed": false,
    "pycharm": {
     "name": "#%%\n"
    }
   }
  },
  {
   "cell_type": "code",
   "execution_count": null,
   "outputs": [],
   "source": [],
   "metadata": {
    "collapsed": false,
    "pycharm": {
     "name": "#%%\n"
    }
   }
  }
 ],
 "metadata": {
  "kernelspec": {
   "display_name": "Q (kdb+)",
   "language": "q",
   "name": "qpk"
  },
  "language_info": {
   "file_extension": ".q",
   "mimetype": "text/x-q",
   "name": "q",
   "version": "4.0"
  }
 },
 "nbformat": 4,
 "nbformat_minor": 5
}