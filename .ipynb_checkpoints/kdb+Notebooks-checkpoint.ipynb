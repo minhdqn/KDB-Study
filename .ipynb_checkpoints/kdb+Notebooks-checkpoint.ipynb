{
 "cells": [
  {
   "cell_type": "markdown",
   "metadata": {},
   "source": [
    "## Introduction\n",
    "This notebook will take you through the functionality available in the notebooks interface for kdb+. Above each group of cells is an explanation, some of the cells are intended to be run, others you will need to change before running them. "
   ]
  },
  {
   "cell_type": "markdown",
   "metadata": {},
   "source": [
    "### Running code\n",
    "The cells below demonstrate the simplest case of running some code and getting a result. There are 3 things to note here:\n",
    "\n",
    "- Each line of code which would produce output at a console produces output in the notebook.\n",
    "- stderr/stdout are printed separately to the output in the usual way for notebooks, note that if your print statement such as `-1\"hello world!\"` has an output (here -1) then the output will be displayed, you can suppress this with a semicolon at the end of a statement as usual.\n",
    "- Execution is 'script like', i.e. you can use the normal rules of indentation for functions, if/while blocks, and select/update/delete statements."
   ]
  },
  {
   "cell_type": "code",
   "execution_count": 2,
   "metadata": {},
   "outputs": [
    {
     "data": {
      "text/plain": [
       "43\r\n"
      ]
     },
     "execution_count": 2,
     "metadata": {},
     "output_type": "execute_result"
    },
    {
     "name": "stdout",
     "output_type": "stream",
     "text": [
      "43\n",
      "hello world!\r\n",
      "hello quiet world\r\n"
     ]
    },
    {
     "data": {
      "text/plain": [
       "43\r\n"
      ]
     },
     "execution_count": 2,
     "metadata": {},
     "output_type": "execute_result"
    },
    {
     "data": {
      "text/plain": [
       "-1\r\n"
      ]
     },
     "execution_count": 2,
     "metadata": {},
     "output_type": "execute_result"
    }
   ],
   "source": [
    "myvar:43                  / this statement has no output\n",
    "myvar                          / will output the value of myvar\n",
    "0N!myvar                       / will output the value of myvar and print it to stdout\n",
    "-1\"hello world!\"               / will print hello world! and output -1\n",
    "-1\"hello quiet world\";         / will print hello quiet world but not print anything to stdout"
   ]
  },
  {
   "cell_type": "code",
   "execution_count": 2,
   "metadata": {},
   "outputs": [
    {
     "data": {
      "text/plain": [
       "time         sym    price   \n",
       "----------------------------\n",
       "00:34:28.887 A      13.92752\n",
       "01:53:10.321 B      15.17091\n",
       "05:15:26.418 select 15.1598 \n",
       "07:57:14.764 select 14.06664\n",
       "11:32:19.305 B      11.78084\n",
       "11:37:56.091 A      13.01772\n",
       "14:11:00.647 B      17.85033\n",
       "14:52:59.840 select 15.3471 \n",
       "15:59:34.638 A      17.11172\n",
       "16:46:10.161 B      14.11597\n"
      ]
     },
     "execution_count": 2,
     "metadata": {},
     "output_type": "execute_result"
    },
    {
     "data": {
      "text/plain": [
       "sym| time         price   \n",
       "---| ---------------------\n",
       "A  | 15:59:34.638 14.68565\n",
       "B  | 16:46:10.161 14.72951\n"
      ]
     },
     "execution_count": 2,
     "metadata": {},
     "output_type": "execute_result"
    }
   ],
   "source": [
    "/\n",
    "indentation examples \n",
    "The usual rules of identation apply \n",
    "Also note this is a block comment, make sure there is just a single / at the start of the first line in this cell\n",
    "\\\n",
    "func:{\n",
    " / this is a multiline function\n",
    " :1;\n",
    " }\n",
    "\n",
    "/ define a table over multiple lines\n",
    "tab:([]time:asc 10?.z.t;\n",
    "       sym:10?`A`B`select;\n",
    "       price:10+10?10f)\n",
    "select from tab\n",
    "t1:100#tab\n",
    "\n",
    "/ now we can do a multiline select\n",
    "select last time,avg price by sym\n",
    " from tab where sym in `A`B\n"
   ]
  },
  {
   "cell_type": "markdown",
   "metadata": {},
   "source": [
    "### Code completion and getting help\n",
    "\n",
    "The notebook supports code completion of q keywords and anything in the `.h`, `.Q`, `.z` and `.j` directories of q. \n",
    "Completion also works on user defined variables, provided they exist on the server. If you've defined variables in the *same* cell they won't exist yet in the server process before the cell is first executed, but notebooks will complete these for you locally.\n",
    "\n",
    "Code completion in notebooks is accessed via the TAB key."
   ]
  },
  {
   "cell_type": "markdown",
   "metadata": {},
   "source": [
    "#### Completion"
   ]
  },
  {
   "cell_type": "code",
   "execution_count": null,
   "metadata": {
    "collapsed": true
   },
   "outputs": [],
   "source": [
    "sel      / q keywords, place your cursor anywhere in the word and hit tab\n",
    "ma       / if you place your cursor in this word and hit TAB you should see a drop down with max, maxs and mavg.\n",
    "select   / completion can replace existing text"
   ]
  },
  {
   "cell_type": "markdown",
   "metadata": {},
   "source": [
    "Now lets define some variables in directories we can complete on, run the cell below and then try auto completion in the following cell."
   ]
  },
  {
   "cell_type": "code",
   "execution_count": 6,
   "metadata": {
    "collapsed": true
   },
   "outputs": [],
   "source": [
    ".dict1.subdir1.foo:1\n",
    ".dict1.subdir1.goo:2\n",
    ".dict1.subdir2.foo:3\n",
    ".dict1.subdir2.goo:4\n",
    ".dict2.value:4\n"
   ]
  },
  {
   "cell_type": "code",
   "execution_count": null,
   "metadata": {
    "collapsed": true
   },
   "outputs": [],
   "source": [
    ".dict1.subdir1.f       / hit TAB to complete\n",
    ".dict1.sub             / TAB here gives a list of subdirectories\n",
    "/ and so on and so on...."
   ]
  },
  {
   "cell_type": "markdown",
   "metadata": {},
   "source": [
    "#### Help\n",
    "Help is available on q keywords and built in commands, embedPy and Python foreign objects, and user defined variables. For user defined variables the console representation along with datatype information is displayed.\n",
    "\n",
    "In notebooks help is accessed with SHIFT+TAB, this should pop up a window in the notebook, to see an html version of the help with links to the online documentation for the function, hit SHIFT+TAB 4 times in succession (or use the buttons in the help window).\n"
   ]
  },
  {
   "cell_type": "code",
   "execution_count": 3,
   "metadata": {},
   "outputs": [
    {
     "data": {
      "text/plain": [
       "time         sym    price   \n",
       "----------------------------\n",
       "00:34:28.887 A      13.92752\n",
       "01:53:10.321 B      15.17091\n",
       "05:15:26.418 select 15.1598 \n",
       "07:57:14.764 select 14.06664\n",
       "11:32:19.305 B      11.78084\n",
       "11:37:56.091 A      13.01772\n",
       "14:11:00.647 B      17.85033\n",
       "14:52:59.840 select 15.3471 \n",
       "15:59:34.638 A      17.11172\n",
       "16:46:10.161 B      14.11597\n"
      ]
     },
     "execution_count": 3,
     "metadata": {},
     "output_type": "execute_result"
    }
   ],
   "source": [
    "select time,sym,price from tab / place your cursor in the 'select' or 'tab' words here and hit SHIFT TAB\n",
    "                               / if you try it in time,sym,price or from you will get \"Sorry no help available\" "
   ]
  },
  {
   "cell_type": "markdown",
   "metadata": {},
   "source": [
    "### Errors\n",
    "Errors are displayed in red and fall into 2 classes\n",
    "\n",
    "- Parse errors, parsing of the cell content is checked by the kernel before sending to the server for evaluation, the usual q parsing rules apply. Note that for foreign languages (lines preceded by `p)` for example) parsing is not checked.\n",
    "\n",
    "- Evaulation (runtime errors), these are reported from the server, one important thing to note is that as with q scripts, lines up to where the error occurred will have been executed, e.g.\n",
    "```\n",
    "a:1\n",
    "b:a+`\n",
    "a:2\n",
    "```\n",
    "\n",
    "will result in a having a value of 1.\n"
   ]
  },
  {
   "cell_type": "code",
   "execution_count": 6,
   "metadata": {},
   "outputs": [
    {
     "ename": "\u001b[0;31mparse error\u001b[0m",
     "evalue": "\u001b[0;31mfrom\u001b[0m",
     "output_type": "error",
     "traceback": [
      "\u001b[0;31mparse error\u001b[0m",
      "\u001b[0;31mfrom\u001b[0m"
     ]
    }
   ],
   "source": [
    "select from"
   ]
  },
  {
   "cell_type": "code",
   "execution_count": 6,
   "metadata": {},
   "outputs": [
    {
     "ename": "\u001b[0;31mparse error\u001b[0m",
     "evalue": "\u001b[0;31m{\u001b[0m",
     "output_type": "error",
     "traceback": [
      "\u001b[0;31mparse error\u001b[0m",
      "\u001b[0;31m{\u001b[0m"
     ]
    }
   ],
   "source": [
    "f:{ / this function was not properly indented (on the last line)\n",
    " -1\"hello world\"\n",
    "}"
   ]
  },
  {
   "cell_type": "code",
   "execution_count": 7,
   "metadata": {
    "collapsed": true
   },
   "outputs": [],
   "source": [
    "a:2"
   ]
  },
  {
   "cell_type": "code",
   "execution_count": 7,
   "metadata": {},
   "outputs": [
    {
     "ename": "\u001b[0;31mtype\u001b[0m",
     "evalue": "\u001b[0;31mtype\u001b[0m",
     "output_type": "error",
     "traceback": [
      "\u001b[0;31mevaluation error:\n\u001b[0m",
      "\u001b[0;31mtype\u001b[0m",
      "\u001b[0;31m\u001b[0m",
      "\u001b[0;31m  [0]  b:a+`  \n          ^\n\u001b[0m"
     ]
    }
   ],
   "source": [
    "a:1    / run once to trigger an error, then execute next cell to see the value of a\n",
    "b:a+`  "
   ]
  },
  {
   "cell_type": "code",
   "execution_count": 8,
   "metadata": {},
   "outputs": [
    {
     "data": {
      "text/plain": [
       "1\n"
      ]
     },
     "execution_count": 8,
     "metadata": {},
     "output_type": "execute_result"
    }
   ],
   "source": [
    "a"
   ]
  },
  {
   "cell_type": "markdown",
   "metadata": {},
   "source": [
    "### System commands\n",
    "\n",
    "System commands can be used with the `\\` operator at the start of a line in a code cell.\n",
    "\n",
    "**NOTE**: \\d does not currently work."
   ]
  },
  {
   "cell_type": "code",
   "execution_count": null,
   "metadata": {
    "collapsed": true
   },
   "outputs": [],
   "source": [
    "\\ls\n",
    "\\p\n",
    "\\c 50 200"
   ]
  },
  {
   "cell_type": "markdown",
   "metadata": {},
   "source": [
    "### Loading and saving code\n",
    "\n",
    "In addition to loading code with `\\l` , code from a script *on the server* can be loaded directly into a cell using a 'magic' command\n",
    "\n",
    "```/%loadscript filename```\n",
    "\n",
    "This will not attempt to execute the code and any code in the rest of the cell will not execute.``"
   ]
  },
  {
   "cell_type": "code",
   "execution_count": null,
   "metadata": {
    "collapsed": true
   },
   "outputs": [],
   "source": [
    "/ run the cell, the contents of matplot lib will be inserted in place\n",
    "/%loadscript examples/importmatplotlib.q"
   ]
  },
  {
   "cell_type": "markdown",
   "metadata": {},
   "source": [
    "```/%savescript filename [overwrite]```\n",
    "\n",
    "Will save contents of the cell as a script, optionally overwriting the script if it already exists"
   ]
  },
  {
   "cell_type": "code",
   "execution_count": null,
   "metadata": {
    "collapsed": true
   },
   "outputs": [],
   "source": [
    "/ save the contents of the current cell as a script\n",
    "/%savescript saveexample.q 0\n",
    "aaa:1 2 3\n",
    "bbb:3 4 5\n",
    "func:{\n",
    " \n",
    " }\n",
    "/ comments should be included in the file"
   ]
  },
  {
   "cell_type": "markdown",
   "metadata": {},
   "source": [
    "### Python and inline display\n",
    "\n",
    "Along with k and q code, python code can be run in a q process using embedPy, charts created using matplotlib will be displayed inline in the notebook.  The cells below demonstrate a couple of ways we can run python code. \n",
    "\n",
    "The first example uses the p) prefix to define and display a chart, using an example from the matplotlib website.\n"
   ]
  },
  {
   "cell_type": "code",
   "execution_count": 4,
   "metadata": {},
   "outputs": [
    {
     "data": {
      "image/png": "[encoded data removed]",
      "text/plain": [
       "<matplotlib.figure.Figure at 0x7fad388777f0>"
      ]
     },
     "metadata": {},
     "output_type": "display_data"
    }
   ],
   "source": [
    "p)import matplotlib.pyplot as plt\n",
    "p)import numpy as np\n",
    "p)t = np.arange(0.0, 2.0, 0.01)\n",
    "p)s = 1 + np.sin(2*np.pi*t)\n",
    "p)plt.plot(t, s)\n",
    "\n",
    "p)plt.xlabel('time (s)')\n",
    "\n",
    "p)plt.ylabel('voltage (mV)')\n",
    "p)plt.title('About as simple as it gets, folks')\n",
    "p)plt.grid(True)\n",
    "\n",
    "p)plt.show()"
   ]
  },
  {
   "cell_type": "markdown",
   "metadata": {},
   "source": [
    "This cell demonstrates loading a python file which exists on the server and does exactly the same as the cell above. "
   ]
  },
  {
   "cell_type": "code",
   "execution_count": 5,
   "metadata": {},
   "outputs": [
    {
     "data": {
      "image/png": "[encoded data removed]",
      "text/plain": [
       "<matplotlib.figure.Figure at 0x7fad29b88ba8>"
      ]
     },
     "metadata": {},
     "output_type": "display_data"
    }
   ],
   "source": [
    "\n",
    "\\l examples/matplotlibexample.p"
   ]
  },
  {
   "cell_type": "markdown",
   "metadata": {},
   "source": [
    "Finally we have an example of a simple wrapper for matplotlib.pyplot written in q (in `matplotlib.q`) which lets us use pyplot methods and functions like q functions.\n"
   ]
  },
  {
   "cell_type": "code",
   "execution_count": 6,
   "metadata": {},
   "outputs": [
    {
     "data": {
      "image/png": "[encoded data removed]",
      "text/plain": [
       "<matplotlib.figure.Figure at 0x7fad29b84a90>"
      ]
     },
     "metadata": {},
     "output_type": "display_data"
    }
   ],
   "source": [
    "/ This is q code\n",
    "\\l examples/importmatplotlib.q\n",
    "pi:2*asin 1\n",
    "x:til[200]%100\n",
    "y:1+sin 2*pi*x\n",
    "plt:.matplotlib.pyplot[]\n",
    "plt.\n",
    "/\\t plt:.p.module .p.import`matplotlib.pyplot\n",
    "plt.plot[x;y];\n",
    "plt.xlabel\"X values\";\n",
    "plt.ylabel\"Y values\";\n",
    "plt.title\"A pyplot chart created in q\";\n",
    "plt.grid 1b;\n",
    "plt.show[];"
   ]
  }
 ],
 "metadata": {
  "kernelspec": {
   "display_name": "Q (kdb+)",
   "language": "q",
   "name": "qpk"
  },
  "language_info": {
   "file_extension": ".q",
   "mimetype": "text/x-q",
   "name": "q",
   "version": "4.0"
  }
 },
 "nbformat": 4,
 "nbformat_minor": 2
}
